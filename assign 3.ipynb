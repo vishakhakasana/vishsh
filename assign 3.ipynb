{
 "cells": [
  {
   "cell_type": "code",
   "execution_count": null,
   "id": "83f9a7ef",
   "metadata": {},
   "outputs": [],
   "source": [
    "1..why are functions advantageous to have in your programs?\n",
    " \n",
    "    functions reduce  the need for duplicte code. this makes prigram shorter,easier to read,and easier to update. A function call is what moves the program execution into the function, and the function call evaluates to the function's return value."
   ]
  },
  {
   "cell_type": "code",
   "execution_count": null,
   "id": "973e9569",
   "metadata": {},
   "outputs": [],
   "source": [
    "2...when does the code in a function run: when it's specified or when it's called?\n",
    "    \n",
    "    when a function is \"called\" the program \"leaves\" the current section of code and begins to execute the first line inside the function."
   ]
  },
  {
   "cell_type": "code",
   "execution_count": null,
   "id": "db50a0e4",
   "metadata": {},
   "outputs": [],
   "source": [
    "3..what statement creates a function?\n",
    "\n",
    "  To create a function,we must first declare it and give it a name,the same way we'd create any variable,and then we folllow it by a function defination: var sayHello=function() {};\n",
    "    we could put any code inside the function one statement-depend on what we want to do."
   ]
  },
  {
   "cell_type": "code",
   "execution_count": null,
   "id": "f494b676",
   "metadata": {},
   "outputs": [],
   "source": [
    "4...what is a difference between a function and a function call?\n",
    "\n",
    "   the difference between the function and function call is ,a function is procedure to achieve a particular result while function call is using this fumction to achieve that task.\n",
    "    "
   ]
  },
  {
   "cell_type": "code",
   "execution_count": null,
   "id": "bf370d84",
   "metadata": {},
   "outputs": [],
   "source": [
    "5...how many global scopes are there in a python program? how many local scopes.\n",
    "\n",
    "    GLOBAL SCOPE...The name taht you define in this scope are available tp all your code. there only one global pyhon scope per program  execution .this scope remains in existence until the program terminates and all its names are forgotten.\n",
    "    LOCAL SCOPE....The names that you define in this scope or only available or visible to the code within the scope. hwne you use an unqualified name inside a function,python searches name inside a function ,python searches three scopes- the local (L) ,then the global(G) ,and then the built in (B) and stops at the first place the name is found."
   ]
  },
  {
   "cell_type": "code",
   "execution_count": null,
   "id": "e8f97024",
   "metadata": {},
   "outputs": [],
   "source": [
    "6...what happens to variable in a local scope when the function calls return?\n",
    "\n",
    "    when the execution of function terminates(returns),the local variables are destroyed...so it is not possible for a function to set some local variable to a value ,complete its execution,and then when it is called again next time,recover the local variable."
   ]
  },
  {
   "cell_type": "code",
   "execution_count": null,
   "id": "df93eaf0",
   "metadata": {},
   "outputs": [],
   "source": [
    "7...what is  the concept  of a return value?is it possible to have a return value in an expression?\n",
    "\n",
    "    A return statement is used to end the execution of the function call and \"returns\" the result(value of the expression following the return keyword) to the caller.The statements after the return statement are not executed are not executed .if the return statement is without any expression,then the special value none is returned.\n",
    "\n",
    "   "
   ]
  },
  {
   "cell_type": "code",
   "execution_count": null,
   "id": "3b9665ef",
   "metadata": {},
   "outputs": [],
   "source": [
    "8...if a function does not have a return statement,what is the return value of a call to that function?\n",
    "\n",
    "    if expression is omitted ,the return value of the function is undefined...if no return statement appears in a function defination,control function after the last statement of the called function is executed.in this case, the return value of the called function is undefined.\n",
    "\n",
    "     "
   ]
  },
  {
   "cell_type": "code",
   "execution_count": null,
   "id": "edfb32d0",
   "metadata": {},
   "outputs": [],
   "source": [
    "9...how do you make a function variable refer to the global variable?\n",
    "\n",
    "     if you want to refer to a global variable in a function,you can use the global keyword to declare which variables are global.\n",
    "   "
   ]
  },
  {
   "cell_type": "code",
   "execution_count": null,
   "id": "09af4ac9",
   "metadata": {},
   "outputs": [],
   "source": [
    "10...what is the data type of none?\n",
    "    the datatype of none is nonetype."
   ]
  },
  {
   "cell_type": "code",
   "execution_count": null,
   "id": "7208dd1e",
   "metadata": {},
   "outputs": [],
   "source": [
    "11...what does the sentence import areallyyourpetsnamederic do?\n",
    "     the import statement imports a module named areallyourpeysnamederic.(this isn't a rael python module,by the way.)\n",
    "   "
   ]
  },
  {
   "cell_type": "code",
   "execution_count": null,
   "id": "1ea0acef",
   "metadata": {},
   "outputs": [],
   "source": [
    "12...if you had a bacon() feature in a spam module,what would you called it after impoting spam.\n",
    "     \n",
    "    this function can be called with spam.bacon()"
   ]
  },
  {
   "cell_type": "code",
   "execution_count": null,
   "id": "8bc860ac",
   "metadata": {},
   "outputs": [],
   "source": [
    "13..what can you do to save a programme,from crashing if it encounters an error?\n",
    "    place the line of code that might  cause an error in a try clause."
   ]
  },
  {
   "cell_type": "code",
   "execution_count": null,
   "id": "83161119",
   "metadata": {},
   "outputs": [],
   "source": [
    "14..what is the purpose of the try clause? what is the purpose of the except clause?\n",
    "\n",
    "    the code that could potentially cause an error goes in the try clause.\n",
    "    the code that executes if an error happens goes in the except clause."
   ]
  }
 ],
 "metadata": {
  "kernelspec": {
   "display_name": "Python 3 (ipykernel)",
   "language": "python",
   "name": "python3"
  },
  "language_info": {
   "codemirror_mode": {
    "name": "ipython",
    "version": 3
   },
   "file_extension": ".py",
   "mimetype": "text/x-python",
   "name": "python",
   "nbconvert_exporter": "python",
   "pygments_lexer": "ipython3",
   "version": "3.9.7"
  }
 },
 "nbformat": 4,
 "nbformat_minor": 5
}
